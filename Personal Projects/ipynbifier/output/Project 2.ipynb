{
  "nbformat": 4,
  "nbformat_minor": 0,
  "metadata": {
    "colab": {
      "name": "Project 2.ipynb",
      "provenance": [],
      "collapsed_sections": []
    },
    "kernelspec": {
      "name": "python3",
      "display_name": "Python 3"
    },
    "language_info": {
      "name": "python"
    }
  },
  "cells": [
    {
      "cell_type": "code",
      "metadata": {
        "id": "9q6zLUkQcu0g"
      },
      "source": [
        "import pandas as pd\n",
        "\n",
        "from sklearn.metrics import mean_absolute_error\n",
        "from sklearn.metrics import classification_report\n",
        "from sklearn.inspection import permutation_importance\n",
        "\n",
        "from sklearn.ensemble import RandomForestClassifier\n",
        "from sklearn.pipeline import make_pipeline\n",
        "from category_encoders import OrdinalEncoder\n",
        "from sklearn.impute import SimpleImputer\n",
        "from xgboost import XGBClassifier\n",
        "from sklearn.ensemble import GradientBoostingClassifier\n",
        "\n",
        "from sklearn.model_selection import train_test_split\n",
        "\n",
        "import matplotlib.pyplot as plt\n",
        "from sklearn.metrics import plot_roc_curve"
      ],
      "execution_count": null,
      "outputs": []
    },
    {
      "cell_type": "code",
      "metadata": {
        "id": "kohcgORRah8Q"
      },
      "source": [
        "def color_percent(floaty):\n",
        "  \"Input a normalized number between 0 and 1, and get it in string form colored according to percentage.\"\n",
        "  if floaty >= .5:\n",
        "    green = 200\n",
        "    red = int(500 * (1 - floaty))\n",
        "  else:\n",
        "    red = 255\n",
        "    green = int(400 * floaty)\n",
        "\n",
        "  return f'\\033[38;2;{red};{green};0m{floaty}\\033[00m'"
      ],
      "execution_count": null,
      "outputs": []
    },
    {
      "cell_type": "code",
      "metadata": {
        "id": "zzzKOjPCPX6E"
      },
      "source": [
        "df = pd.read_csv('files/lending-club-subset.csv', skipinitialspace=True)\n",
        "\n",
        "empty = ['member_id', 'next_pymnt_d']\n",
        "df = df.drop(columns=empty)\n",
        "weird = ['deferral_term', 'hardship_length', 'hardship_type']\n",
        "df = df.drop(columns=weird)\n",
        "constant = ['hardship_flag', 'policy_code', 'out_prncp_inv', 'out_prncp', 'pymnt_plan']\n",
        "df = df.drop(columns=constant)\n",
        "useless = ['url', 'id', 'emp_title', 'desc', 'title', 'zip_code']\n",
        "df = df.drop(columns=useless)\n",
        "leakage = ['fico_range_low', 'last_fico_range_high', 'last_fico_range_low']\n",
        "df = df.drop(columns=leakage)\n",
        "\n",
        "df['int_rate'] = df['int_rate'].str.strip('%').astype(float)\n",
        "def numberinator(num):\n",
        "    nums = '0123456789'\n",
        "    numy = ''\n",
        "    if type(num) == str:\n",
        "        for char in num:\n",
        "            if char in nums:\n",
        "                numy += char\n",
        "\n",
        "    if numy == '':\n",
        "        numy = None\n",
        "    else:\n",
        "        numy = float(numy)\n",
        "\n",
        "    return numy\n",
        "df['emp_length'] = df['emp_length'].apply(numberinator)\n",
        "df['revol_util'] = df['revol_util'].str.strip('%').astype(float)\n",
        "df['term'] = df['term'].apply(numberinator)\n",
        "grades = {'A': 4, 'B': 3, 'C': 2, 'D': 1}\n",
        "grader = lambda grade : grades[grade]\n",
        "df['grade'] = df['grade'].apply(grader)\n",
        "grader2 = lambda grade : grades[grade[0]] * int(grade[1])\n",
        "df['sub_grade'] = df['sub_grade'].apply(grader2)\n",
        "\n",
        "for x in df.columns:\n",
        "    if df[x].nunique() > 100 and df[x].dtype == object:\n",
        "        df = df.drop(columns=x)\n",
        "\n",
        "df.loc[df['home_ownership'] == 'RENT', 'renting'] = 1\n",
        "df.loc[df['renting'] != 1, 'renting'] = 0\n",
        "df = df.drop(columns='home_ownership')"
      ],
      "execution_count": null,
      "outputs": []
    },
    {
      "cell_type": "code",
      "metadata": {
        "id": "3lWKJ4YBiIx5"
      },
      "source": [
        "df.to_csv('files/lending_edited.csv')"
      ],
      "execution_count": null,
      "outputs": []
    },
    {
      "cell_type": "code",
      "metadata": {
        "id": "3iDOWpBvIB1H"
      },
      "source": [
        "target = 'renting'\n",
        "X = df.drop(target, axis=1)\n",
        "y = df[target]\n",
        "\n",
        "X_train, y_train = X.head(70000), y[:70000]\n",
        "X_val, y_val = X[70000:85000], y[70000: 85000]\n",
        "X_test, y_test = X[85000:], y[85000:]"
      ],
      "execution_count": null,
      "outputs": []
    },
    {
      "cell_type": "code",
      "metadata": {
        "id": "65aL4WUUJoAe"
      },
      "source": [
        "basAcc = y_train.value_counts(normalize=True).max()\n",
        "print('\\033[34mBaseline Accuracy:', color_percent(basAcc), end='\\n\\n')"
      ],
      "execution_count": null,
      "outputs": []
    },
    {
      "cell_type": "code",
      "metadata": {
        "id": "7u02mXgXTpTW"
      },
      "source": [
        "modelRF = make_pipeline(\n",
        "    OrdinalEncoder(),\n",
        "    SimpleImputer(strategy='mean'),\n",
        "    RandomForestClassifier(\n",
        "        n_jobs=-1,\n",
        "        random_state=42\n",
        "    )\n",
        ")\n",
        "modelRF.fit(X_train, y_train)\n",
        "\n",
        "print('\\033[34mModel RandomForestClassifier\\033[00m')\n",
        "print('Training Accuracy:', color_percent(modelRF.score(X_train, y_train)))\n",
        "print('Validation Accuracy:', color_percent(modelRF.score(X_val, y_val)), end='\\n\\n')"
      ],
      "execution_count": null,
      "outputs": []
    },
    {
      "cell_type": "code",
      "metadata": {
        "id": "usfyl5CBECOx"
      },
      "source": [
        "modelBoost = make_pipeline(\n",
        "    OrdinalEncoder(),\n",
        "    SimpleImputer(strategy='mean'),\n",
        "    XGBClassifier(\n",
        "        random_state=42,\n",
        "        eval_metric='merror',\n",
        "        use_label_encoder=False\n",
        "    )\n",
        ")\n",
        "modelBoost.fit(X_train, y_train)\n",
        "\n",
        "print('\\033[34mModel XGBClassifier\\033[00m')\n",
        "print('Training Accuracy:', color_percent(modelBoost.score(X_train, y_train)))\n",
        "print('Validation Accuracy:', color_percent(modelBoost.score(X_val, y_val)), end='\\n\\n')"
      ],
      "execution_count": null,
      "outputs": []
    },
    {
      "cell_type": "code",
      "metadata": {
        "id": "xpnahDEZ708z"
      },
      "source": [
        "modelGradient = make_pipeline(\n",
        "    OrdinalEncoder(),\n",
        "    SimpleImputer(strategy='mean'),\n",
        "    GradientBoostingClassifier(\n",
        "        random_state=42\n",
        "    )\n",
        ")\n",
        "modelGradient.fit(X_train, y_train)\n",
        "\n",
        "print('\\033[34mModel GradientBoostingClassifier\\033[00m')\n",
        "print('Training Accuracy:', color_percent(modelGradient.score(X_train, y_train)))\n",
        "print('Validation Accuracy:', color_percent(modelGradient.score(X_val, y_val)), end='\\n\\n')"
      ],
      "execution_count": null,
      "outputs": []
    },
    {
      "cell_type": "code",
      "metadata": {
        "id": "0HURxEmHP51b"
      },
      "source": [
        "rfRoc = plot_roc_curve(modelRF, X_val, y_val)\n",
        "boostRoc = plot_roc_curve(modelRF, X_val, y_val, ax=rfRoc.ax_)\n",
        "gradientRoc = plot_roc_curve(modelGradient, X_val, y_val, ax=rfRoc.ax_)\n",
        "plt.show()"
      ],
      "execution_count": null,
      "outputs": []
    },
    {
      "cell_type": "code",
      "metadata": {
        "id": "XhPh8JoBXl1q"
      },
      "source": [
        "report = classification_report(y_val, modelBoost.predict(X_val))\n",
        "print(f\"\\033[31m{report}\\033[00m\\n\")"
      ],
      "execution_count": null,
      "outputs": []
    },
    {
      "cell_type": "code",
      "metadata": {
        "id": "5dqzVexSv76W"
      },
      "source": [
        "permute = permutation_importance(\n",
        "    modelBoost,\n",
        "    X_val,\n",
        "    y_val,\n",
        "    random_state=42\n",
        ")\n",
        "data = {\n",
        "    'imp_mean': permute['importances_mean'],\n",
        "    'imp_std': permute['importances_std']\n",
        "}\n",
        "importances = pd.DataFrame(data, index=X_val.columns)\n",
        "importances = importances.sort_values(by='imp_mean', key=abs)\n",
        "print(importances.tail(20))"
      ],
      "execution_count": null,
      "outputs": []
    }
  ]
}